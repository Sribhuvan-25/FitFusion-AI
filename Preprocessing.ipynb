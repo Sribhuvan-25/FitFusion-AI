{
 "cells": [
  {
   "cell_type": "code",
   "execution_count": 1,
   "metadata": {},
   "outputs": [],
   "source": [
    "import pandas as pd\n",
    "import nltk\n",
    "import spacy"
   ]
  },
  {
   "cell_type": "markdown",
   "metadata": {},
   "source": [
    "# Getting data ready"
   ]
  },
  {
   "cell_type": "markdown",
   "metadata": {},
   "source": [
    "## Stripping white space"
   ]
  },
  {
   "cell_type": "code",
   "execution_count": null,
   "metadata": {},
   "outputs": [],
   "source": [
    "df = pd.read_csv(\"articles_combined_all_1.csv\")\n",
    "df[\"Title\"] = df[\"Title\"].str.strip()\n",
    "df[\"Content\"] = df[\"Content\"].str.strip()"
   ]
  },
  {
   "cell_type": "markdown",
   "metadata": {},
   "source": [
    "## Lowercase text"
   ]
  },
  {
   "cell_type": "code",
   "execution_count": 36,
   "metadata": {},
   "outputs": [
    {
     "data": {
      "text/html": [
       "<div>\n",
       "<style scoped>\n",
       "    .dataframe tbody tr th:only-of-type {\n",
       "        vertical-align: middle;\n",
       "    }\n",
       "\n",
       "    .dataframe tbody tr th {\n",
       "        vertical-align: top;\n",
       "    }\n",
       "\n",
       "    .dataframe thead th {\n",
       "        text-align: right;\n",
       "    }\n",
       "</style>\n",
       "<table border=\"1\" class=\"dataframe\">\n",
       "  <thead>\n",
       "    <tr style=\"text-align: right;\">\n",
       "      <th></th>\n",
       "      <th>Title</th>\n",
       "      <th>Content</th>\n",
       "    </tr>\n",
       "  </thead>\n",
       "  <tbody>\n",
       "    <tr>\n",
       "      <th>0</th>\n",
       "      <td>How cold affects muscles</td>\n",
       "      <td>when the mercury drops, it threatens your body...</td>\n",
       "    </tr>\n",
       "    <tr>\n",
       "      <th>1</th>\n",
       "      <td>Two types of stretches</td>\n",
       "      <td>dr. eby recommends two kinds of stretches to w...</td>\n",
       "    </tr>\n",
       "    <tr>\n",
       "      <th>2</th>\n",
       "      <td>What else you can do</td>\n",
       "      <td>while stretching might be enough to avoid stif...</td>\n",
       "    </tr>\n",
       "    <tr>\n",
       "      <th>3</th>\n",
       "      <td>If pain doesn't go away</td>\n",
       "      <td>if muscle pain doesn't go away, you might have...</td>\n",
       "    </tr>\n",
       "    <tr>\n",
       "      <th>4</th>\n",
       "      <td>Why is exercise so important for seniors?</td>\n",
       "      <td>whether you were once much more physically act...</td>\n",
       "    </tr>\n",
       "  </tbody>\n",
       "</table>\n",
       "</div>"
      ],
      "text/plain": [
       "                                       Title  \\\n",
       "0                   How cold affects muscles   \n",
       "1                     Two types of stretches   \n",
       "2                       What else you can do   \n",
       "3                    If pain doesn't go away   \n",
       "4  Why is exercise so important for seniors?   \n",
       "\n",
       "                                             Content  \n",
       "0  when the mercury drops, it threatens your body...  \n",
       "1  dr. eby recommends two kinds of stretches to w...  \n",
       "2  while stretching might be enough to avoid stif...  \n",
       "3  if muscle pain doesn't go away, you might have...  \n",
       "4  whether you were once much more physically act...  "
      ]
     },
     "execution_count": 36,
     "metadata": {},
     "output_type": "execute_result"
    }
   ],
   "source": [
    "df[\"Content\"] = df[\"Content\"].str.lower()\n",
    "df.head()"
   ]
  },
  {
   "cell_type": "markdown",
   "metadata": {},
   "source": [
    "## Remove punctuation"
   ]
  },
  {
   "cell_type": "code",
   "execution_count": null,
   "metadata": {},
   "outputs": [
    {
     "data": {
      "text/html": [
       "<div>\n",
       "<style scoped>\n",
       "    .dataframe tbody tr th:only-of-type {\n",
       "        vertical-align: middle;\n",
       "    }\n",
       "\n",
       "    .dataframe tbody tr th {\n",
       "        vertical-align: top;\n",
       "    }\n",
       "\n",
       "    .dataframe thead th {\n",
       "        text-align: right;\n",
       "    }\n",
       "</style>\n",
       "<table border=\"1\" class=\"dataframe\">\n",
       "  <thead>\n",
       "    <tr style=\"text-align: right;\">\n",
       "      <th></th>\n",
       "      <th>Title</th>\n",
       "      <th>Content</th>\n",
       "    </tr>\n",
       "  </thead>\n",
       "  <tbody>\n",
       "    <tr>\n",
       "      <th>0</th>\n",
       "      <td>How cold affects muscles</td>\n",
       "      <td>when the mercury drops it threatens your bodys...</td>\n",
       "    </tr>\n",
       "    <tr>\n",
       "      <th>1</th>\n",
       "      <td>Two types of stretches</td>\n",
       "      <td>dr eby recommends two kinds of stretches to wa...</td>\n",
       "    </tr>\n",
       "    <tr>\n",
       "      <th>2</th>\n",
       "      <td>What else you can do</td>\n",
       "      <td>while stretching might be enough to avoid stif...</td>\n",
       "    </tr>\n",
       "    <tr>\n",
       "      <th>3</th>\n",
       "      <td>If pain doesn't go away</td>\n",
       "      <td>if muscle pain doesnt go away you might have a...</td>\n",
       "    </tr>\n",
       "    <tr>\n",
       "      <th>4</th>\n",
       "      <td>Why is exercise so important for seniors?</td>\n",
       "      <td>whether you were once much more physically act...</td>\n",
       "    </tr>\n",
       "    <tr>\n",
       "      <th>5</th>\n",
       "      <td>What are the best types of exercise?</td>\n",
       "      <td>while there are endless forms ofexercise exper...</td>\n",
       "    </tr>\n",
       "    <tr>\n",
       "      <th>6</th>\n",
       "      <td>How much exercise do I need?</td>\n",
       "      <td>how much exercise you should be getting depend...</td>\n",
       "    </tr>\n",
       "    <tr>\n",
       "      <th>7</th>\n",
       "      <td>What are the benefits of exercise?</td>\n",
       "      <td>a smartly designed exercise program will benef...</td>\n",
       "    </tr>\n",
       "    <tr>\n",
       "      <th>8</th>\n",
       "      <td>What if my exercise ability is limited?</td>\n",
       "      <td>everyone can and should do some form of exerci...</td>\n",
       "    </tr>\n",
       "    <tr>\n",
       "      <th>9</th>\n",
       "      <td>What exercises are best for heart health?</td>\n",
       "      <td>the best exercise program will incorporate bot...</td>\n",
       "    </tr>\n",
       "  </tbody>\n",
       "</table>\n",
       "</div>"
      ],
      "text/plain": [
       "                                       Title  \\\n",
       "0                   How cold affects muscles   \n",
       "1                     Two types of stretches   \n",
       "2                       What else you can do   \n",
       "3                    If pain doesn't go away   \n",
       "4  Why is exercise so important for seniors?   \n",
       "5       What are the best types of exercise?   \n",
       "6               How much exercise do I need?   \n",
       "7         What are the benefits of exercise?   \n",
       "8    What if my exercise ability is limited?   \n",
       "9  What exercises are best for heart health?   \n",
       "\n",
       "                                             Content  \n",
       "0  when the mercury drops it threatens your bodys...  \n",
       "1  dr eby recommends two kinds of stretches to wa...  \n",
       "2  while stretching might be enough to avoid stif...  \n",
       "3  if muscle pain doesnt go away you might have a...  \n",
       "4  whether you were once much more physically act...  \n",
       "5  while there are endless forms ofexercise exper...  \n",
       "6  how much exercise you should be getting depend...  \n",
       "7  a smartly designed exercise program will benef...  \n",
       "8  everyone can and should do some form of exerci...  \n",
       "9  the best exercise program will incorporate bot...  "
      ]
     },
     "execution_count": 37,
     "metadata": {},
     "output_type": "execute_result"
    }
   ],
   "source": [
    "import string\n",
    "\n",
    "def remove_punctuation(text):\n",
    "    return text.translate(str.maketrans('', '', string.punctuation))\n",
    "\n",
    "df['Content'] = df['Content'].apply(remove_punctuation)\n",
    "\n",
    "df"
   ]
  },
  {
   "cell_type": "markdown",
   "metadata": {},
   "source": [
    "## Remove special characters"
   ]
  },
  {
   "cell_type": "code",
   "execution_count": 8,
   "metadata": {},
   "outputs": [],
   "source": [
    "import re\n",
    "\n",
    "def remove_special_characters(text):\n",
    "    return re.sub(r'[^a-zA-Z0-9\\s]', '', text)\n",
    "\n",
    "df['Content'] = df['Content'].apply(remove_special_characters)\n"
   ]
  },
  {
   "cell_type": "code",
   "execution_count": 9,
   "metadata": {},
   "outputs": [
    {
     "data": {
      "text/html": [
       "<div>\n",
       "<style scoped>\n",
       "    .dataframe tbody tr th:only-of-type {\n",
       "        vertical-align: middle;\n",
       "    }\n",
       "\n",
       "    .dataframe tbody tr th {\n",
       "        vertical-align: top;\n",
       "    }\n",
       "\n",
       "    .dataframe thead th {\n",
       "        text-align: right;\n",
       "    }\n",
       "</style>\n",
       "<table border=\"1\" class=\"dataframe\">\n",
       "  <thead>\n",
       "    <tr style=\"text-align: right;\">\n",
       "      <th></th>\n",
       "      <th>Title</th>\n",
       "      <th>Content</th>\n",
       "    </tr>\n",
       "  </thead>\n",
       "  <tbody>\n",
       "    <tr>\n",
       "      <th>0</th>\n",
       "      <td>How cold affects muscles</td>\n",
       "      <td>mercury drops threatens bodys core temperature...</td>\n",
       "    </tr>\n",
       "    <tr>\n",
       "      <th>1</th>\n",
       "      <td>Two types of stretches</td>\n",
       "      <td>Dr Eby recommends two kinds stretches ward col...</td>\n",
       "    </tr>\n",
       "    <tr>\n",
       "      <th>2</th>\n",
       "      <td>What else you can do</td>\n",
       "      <td>stretching might enough avoid stiff winter mus...</td>\n",
       "    </tr>\n",
       "    <tr>\n",
       "      <th>3</th>\n",
       "      <td>If pain doesn't go away</td>\n",
       "      <td>muscle pain go away might injury muscle strain...</td>\n",
       "    </tr>\n",
       "    <tr>\n",
       "      <th>4</th>\n",
       "      <td>Why is exercise so important for seniors?</td>\n",
       "      <td>Whether much physically active never one exerc...</td>\n",
       "    </tr>\n",
       "    <tr>\n",
       "      <th>...</th>\n",
       "      <td>...</td>\n",
       "      <td>...</td>\n",
       "    </tr>\n",
       "    <tr>\n",
       "      <th>89</th>\n",
       "      <td>What are the side effects?</td>\n",
       "      <td>antiobesity diabetes formulations potential si...</td>\n",
       "    </tr>\n",
       "    <tr>\n",
       "      <th>90</th>\n",
       "      <td>Who's a candidate for the drugs?</td>\n",
       "      <td>drugs approved weight loss people diagnosed ob...</td>\n",
       "    </tr>\n",
       "    <tr>\n",
       "      <th>91</th>\n",
       "      <td>How long do you take the drugs?</td>\n",
       "      <td>Taking one new GLP1s shortterm solution go dru...</td>\n",
       "    </tr>\n",
       "    <tr>\n",
       "      <th>92</th>\n",
       "      <td>Costs and coverage</td>\n",
       "      <td>Spectacular results come cheaply new drugs ran...</td>\n",
       "    </tr>\n",
       "    <tr>\n",
       "      <th>93</th>\n",
       "      <td>Are they even available?</td>\n",
       "      <td>make matters worse drugs frenzied rise popular...</td>\n",
       "    </tr>\n",
       "  </tbody>\n",
       "</table>\n",
       "<p>94 rows × 2 columns</p>\n",
       "</div>"
      ],
      "text/plain": [
       "                                        Title  \\\n",
       "0                    How cold affects muscles   \n",
       "1                      Two types of stretches   \n",
       "2                        What else you can do   \n",
       "3                     If pain doesn't go away   \n",
       "4   Why is exercise so important for seniors?   \n",
       "..                                        ...   \n",
       "89                 What are the side effects?   \n",
       "90           Who's a candidate for the drugs?   \n",
       "91            How long do you take the drugs?   \n",
       "92                         Costs and coverage   \n",
       "93                   Are they even available?   \n",
       "\n",
       "                                              Content  \n",
       "0   mercury drops threatens bodys core temperature...  \n",
       "1   Dr Eby recommends two kinds stretches ward col...  \n",
       "2   stretching might enough avoid stiff winter mus...  \n",
       "3   muscle pain go away might injury muscle strain...  \n",
       "4   Whether much physically active never one exerc...  \n",
       "..                                                ...  \n",
       "89  antiobesity diabetes formulations potential si...  \n",
       "90  drugs approved weight loss people diagnosed ob...  \n",
       "91  Taking one new GLP1s shortterm solution go dru...  \n",
       "92  Spectacular results come cheaply new drugs ran...  \n",
       "93  make matters worse drugs frenzied rise popular...  \n",
       "\n",
       "[94 rows x 2 columns]"
      ]
     },
     "execution_count": 9,
     "metadata": {},
     "output_type": "execute_result"
    }
   ],
   "source": [
    "df"
   ]
  },
  {
   "cell_type": "markdown",
   "metadata": {},
   "source": [
    "## Remove stopwords"
   ]
  },
  {
   "cell_type": "code",
   "execution_count": 5,
   "metadata": {},
   "outputs": [
    {
     "name": "stderr",
     "output_type": "stream",
     "text": [
      "[nltk_data] Downloading package stopwords to /Users/sb/nltk_data...\n",
      "[nltk_data]   Package stopwords is already up-to-date!\n"
     ]
    },
    {
     "data": {
      "text/html": [
       "<div>\n",
       "<style scoped>\n",
       "    .dataframe tbody tr th:only-of-type {\n",
       "        vertical-align: middle;\n",
       "    }\n",
       "\n",
       "    .dataframe tbody tr th {\n",
       "        vertical-align: top;\n",
       "    }\n",
       "\n",
       "    .dataframe thead th {\n",
       "        text-align: right;\n",
       "    }\n",
       "</style>\n",
       "<table border=\"1\" class=\"dataframe\">\n",
       "  <thead>\n",
       "    <tr style=\"text-align: right;\">\n",
       "      <th></th>\n",
       "      <th>Title</th>\n",
       "      <th>Content</th>\n",
       "    </tr>\n",
       "  </thead>\n",
       "  <tbody>\n",
       "    <tr>\n",
       "      <th>0</th>\n",
       "      <td>How cold affects muscles</td>\n",
       "      <td>mercury drops, threatens body's core temperatu...</td>\n",
       "    </tr>\n",
       "    <tr>\n",
       "      <th>1</th>\n",
       "      <td>Two types of stretches</td>\n",
       "      <td>Dr. Eby recommends two kinds stretches ward co...</td>\n",
       "    </tr>\n",
       "    <tr>\n",
       "      <th>2</th>\n",
       "      <td>What else you can do</td>\n",
       "      <td>stretching might enough avoid stiff winter mus...</td>\n",
       "    </tr>\n",
       "    <tr>\n",
       "      <th>3</th>\n",
       "      <td>If pain doesn't go away</td>\n",
       "      <td>muscle pain go away, might injury, muscle stra...</td>\n",
       "    </tr>\n",
       "    <tr>\n",
       "      <th>4</th>\n",
       "      <td>Why is exercise so important for seniors?</td>\n",
       "      <td>Whether much physically active never one exerc...</td>\n",
       "    </tr>\n",
       "    <tr>\n",
       "      <th>...</th>\n",
       "      <td>...</td>\n",
       "      <td>...</td>\n",
       "    </tr>\n",
       "    <tr>\n",
       "      <th>89</th>\n",
       "      <td>What are the side effects?</td>\n",
       "      <td>anti-obesity diabetes formulations potential s...</td>\n",
       "    </tr>\n",
       "    <tr>\n",
       "      <th>90</th>\n",
       "      <td>Who's a candidate for the drugs?</td>\n",
       "      <td>drugs approved weight loss people diagnosed ob...</td>\n",
       "    </tr>\n",
       "    <tr>\n",
       "      <th>91</th>\n",
       "      <td>How long do you take the drugs?</td>\n",
       "      <td>Taking one new GLP-1s short-term solution. go ...</td>\n",
       "    </tr>\n",
       "    <tr>\n",
       "      <th>92</th>\n",
       "      <td>Costs and coverage</td>\n",
       "      <td>Spectacular results come cheaply, new drugs ra...</td>\n",
       "    </tr>\n",
       "    <tr>\n",
       "      <th>93</th>\n",
       "      <td>Are they even available?</td>\n",
       "      <td>make matters worse, drugs' frenzied rise popul...</td>\n",
       "    </tr>\n",
       "  </tbody>\n",
       "</table>\n",
       "<p>94 rows × 2 columns</p>\n",
       "</div>"
      ],
      "text/plain": [
       "                                        Title  \\\n",
       "0                    How cold affects muscles   \n",
       "1                      Two types of stretches   \n",
       "2                        What else you can do   \n",
       "3                     If pain doesn't go away   \n",
       "4   Why is exercise so important for seniors?   \n",
       "..                                        ...   \n",
       "89                 What are the side effects?   \n",
       "90           Who's a candidate for the drugs?   \n",
       "91            How long do you take the drugs?   \n",
       "92                         Costs and coverage   \n",
       "93                   Are they even available?   \n",
       "\n",
       "                                              Content  \n",
       "0   mercury drops, threatens body's core temperatu...  \n",
       "1   Dr. Eby recommends two kinds stretches ward co...  \n",
       "2   stretching might enough avoid stiff winter mus...  \n",
       "3   muscle pain go away, might injury, muscle stra...  \n",
       "4   Whether much physically active never one exerc...  \n",
       "..                                                ...  \n",
       "89  anti-obesity diabetes formulations potential s...  \n",
       "90  drugs approved weight loss people diagnosed ob...  \n",
       "91  Taking one new GLP-1s short-term solution. go ...  \n",
       "92  Spectacular results come cheaply, new drugs ra...  \n",
       "93  make matters worse, drugs' frenzied rise popul...  \n",
       "\n",
       "[94 rows x 2 columns]"
      ]
     },
     "execution_count": 5,
     "metadata": {},
     "output_type": "execute_result"
    }
   ],
   "source": [
    "from nltk.corpus import stopwords\n",
    "\n",
    "nltk.download('stopwords')\n",
    "stop_words = set(stopwords.words('english'))\n",
    "\n",
    "# Remove stopwords\n",
    "def remove_stopwords(text):\n",
    "    words = text.split()\n",
    "    return ' '.join([word for word in words if word.lower() not in stop_words])\n",
    "\n",
    "df['Content'] = df['Content'].apply(remove_stopwords)\n",
    "\n",
    "df\n"
   ]
  },
  {
   "cell_type": "markdown",
   "metadata": {},
   "source": [
    "## Stemming"
   ]
  },
  {
   "cell_type": "code",
   "execution_count": null,
   "metadata": {},
   "outputs": [
    {
     "name": "stderr",
     "output_type": "stream",
     "text": [
      "[nltk_data] Downloading package wordnet to /Users/sb/nltk_data...\n",
      "[nltk_data] Downloading package omw-1.4 to /Users/sb/nltk_data...\n",
      "[nltk_data] Downloading package punkt to /Users/sb/nltk_data...\n",
      "[nltk_data]   Package punkt is already up-to-date!\n",
      "[nltk_data] Downloading package averaged_perceptron_tagger_eng to\n",
      "[nltk_data]     /Users/sb/nltk_data...\n",
      "[nltk_data]   Unzipping taggers/averaged_perceptron_tagger_eng.zip.\n"
     ]
    },
    {
     "data": {
      "text/plain": [
       "True"
      ]
     },
     "execution_count": 6,
     "metadata": {},
     "output_type": "execute_result"
    }
   ],
   "source": [
    "nltk.download('wordnet')\n",
    "nltk.download('omw-1.4')\n",
    "nltk.download('punkt')  \n",
    "nltk.download('averaged_perceptron_tagger_eng')"
   ]
  },
  {
   "cell_type": "code",
   "execution_count": null,
   "metadata": {},
   "outputs": [
    {
     "data": {
      "text/html": [
       "<div>\n",
       "<style scoped>\n",
       "    .dataframe tbody tr th:only-of-type {\n",
       "        vertical-align: middle;\n",
       "    }\n",
       "\n",
       "    .dataframe tbody tr th {\n",
       "        vertical-align: top;\n",
       "    }\n",
       "\n",
       "    .dataframe thead th {\n",
       "        text-align: right;\n",
       "    }\n",
       "</style>\n",
       "<table border=\"1\" class=\"dataframe\">\n",
       "  <thead>\n",
       "    <tr style=\"text-align: right;\">\n",
       "      <th></th>\n",
       "      <th>Title</th>\n",
       "      <th>Content</th>\n",
       "    </tr>\n",
       "  </thead>\n",
       "  <tbody>\n",
       "    <tr>\n",
       "      <th>0</th>\n",
       "      <td>How cold affects muscles</td>\n",
       "      <td>mercuri drop threaten bodi core temperatur fun...</td>\n",
       "    </tr>\n",
       "    <tr>\n",
       "      <th>1</th>\n",
       "      <td>Two types of stretches</td>\n",
       "      <td>dr ebi recommend two kind stretch ward cold we...</td>\n",
       "    </tr>\n",
       "    <tr>\n",
       "      <th>2</th>\n",
       "      <td>What else you can do</td>\n",
       "      <td>stretch might enough avoid stiff winter muscl ...</td>\n",
       "    </tr>\n",
       "    <tr>\n",
       "      <th>3</th>\n",
       "      <td>If pain doesn't go away</td>\n",
       "      <td>muscl pain doesnt go away might injuri muscl s...</td>\n",
       "    </tr>\n",
       "    <tr>\n",
       "      <th>4</th>\n",
       "      <td>Why is exercise so important for seniors?</td>\n",
       "      <td>whether much physic activ never one exercis re...</td>\n",
       "    </tr>\n",
       "  </tbody>\n",
       "</table>\n",
       "</div>"
      ],
      "text/plain": [
       "                                       Title  \\\n",
       "0                   How cold affects muscles   \n",
       "1                     Two types of stretches   \n",
       "2                       What else you can do   \n",
       "3                    If pain doesn't go away   \n",
       "4  Why is exercise so important for seniors?   \n",
       "\n",
       "                                             Content  \n",
       "0  mercuri drop threaten bodi core temperatur fun...  \n",
       "1  dr ebi recommend two kind stretch ward cold we...  \n",
       "2  stretch might enough avoid stiff winter muscl ...  \n",
       "3  muscl pain doesnt go away might injuri muscl s...  \n",
       "4  whether much physic activ never one exercis re...  "
      ]
     },
     "execution_count": 40,
     "metadata": {},
     "output_type": "execute_result"
    }
   ],
   "source": [
    "from nltk.stem import PorterStemmer\n",
    "from nltk.stem import WordNetLemmatizer\n",
    "\n",
    "# Initialize stemmer\n",
    "stemmer = PorterStemmer()\n",
    "\n",
    "def apply_stemming(text):\n",
    "    words = text.split()\n",
    "    return ' '.join([stemmer.stem(word) for word in words])\n",
    "\n",
    "# Apply stemming\n",
    "df['Content'] = df['Content'].apply(apply_stemming)\n",
    "\n",
    "df.head()"
   ]
  },
  {
   "cell_type": "markdown",
   "metadata": {},
   "source": [
    "# Generating embeddings"
   ]
  },
  {
   "cell_type": "code",
   "execution_count": 7,
   "metadata": {},
   "outputs": [],
   "source": [
    "import os\n",
    "import pandas as pd\n",
    "import openai\n",
    "import pinecone\n",
    "from tqdm.notebook import tqdm"
   ]
  },
  {
   "cell_type": "code",
   "execution_count": null,
   "metadata": {},
   "outputs": [],
   "source": [
    "\"\"\"\n",
    "    Generates a high-dimensional embedding for the given text using OpenAI's embedding model.\n",
    "\n",
    "    Parameters:\n",
    "        text: Input text to embed.\n",
    "        model: Embedding model name (default is \"text-embedding-3-small\").\n",
    "\n",
    "    Returns:\n",
    "        A list representing the embedding vector.\n",
    " \"\"\"\n",
    "\n",
    "def get_embedding(text, model=\"text-embedding-3-small\"):\n",
    "    response = openai.embeddings.create(\n",
    "        input=text,\n",
    "        model=model\n",
    "    )\n",
    "    embedding = response.data[0].embedding\n",
    "    return embedding"
   ]
  },
  {
   "cell_type": "code",
   "execution_count": 45,
   "metadata": {},
   "outputs": [
    {
     "data": {
      "application/vnd.jupyter.widget-view+json": {
       "model_id": "5d9a92acf8a144ee9e58aabfa60e559b",
       "version_major": 2,
       "version_minor": 0
      },
      "text/plain": [
       "  0%|          | 0/10 [00:00<?, ?it/s]"
      ]
     },
     "metadata": {},
     "output_type": "display_data"
    }
   ],
   "source": [
    "tqdm.pandas()\n",
    "\n",
    "df['embedding'] = df['Content'].progress_apply(lambda x: get_embedding(x))"
   ]
  },
  {
   "cell_type": "code",
   "execution_count": 48,
   "metadata": {},
   "outputs": [
    {
     "data": {
      "text/html": [
       "<div>\n",
       "<style scoped>\n",
       "    .dataframe tbody tr th:only-of-type {\n",
       "        vertical-align: middle;\n",
       "    }\n",
       "\n",
       "    .dataframe tbody tr th {\n",
       "        vertical-align: top;\n",
       "    }\n",
       "\n",
       "    .dataframe thead th {\n",
       "        text-align: right;\n",
       "    }\n",
       "</style>\n",
       "<table border=\"1\" class=\"dataframe\">\n",
       "  <thead>\n",
       "    <tr style=\"text-align: right;\">\n",
       "      <th></th>\n",
       "      <th>Title</th>\n",
       "      <th>Content</th>\n",
       "      <th>embedding</th>\n",
       "    </tr>\n",
       "  </thead>\n",
       "  <tbody>\n",
       "    <tr>\n",
       "      <th>0</th>\n",
       "      <td>How cold affects muscles</td>\n",
       "      <td>mercuri drop threaten bodi core temperatur fun...</td>\n",
       "      <td>[0.042666640132665634, 0.03674071654677391, -0...</td>\n",
       "    </tr>\n",
       "    <tr>\n",
       "      <th>1</th>\n",
       "      <td>Two types of stretches</td>\n",
       "      <td>dr ebi recommend two kind stretch ward cold we...</td>\n",
       "      <td>[0.01926954835653305, 0.013544243760406971, -0...</td>\n",
       "    </tr>\n",
       "    <tr>\n",
       "      <th>2</th>\n",
       "      <td>What else you can do</td>\n",
       "      <td>stretch might enough avoid stiff winter muscl ...</td>\n",
       "      <td>[0.015518976375460625, 0.016931038349866867, -...</td>\n",
       "    </tr>\n",
       "    <tr>\n",
       "      <th>3</th>\n",
       "      <td>If pain doesn't go away</td>\n",
       "      <td>muscl pain doesnt go away might injuri muscl s...</td>\n",
       "      <td>[0.02554585598409176, 0.030388735234737396, -0...</td>\n",
       "    </tr>\n",
       "    <tr>\n",
       "      <th>4</th>\n",
       "      <td>Why is exercise so important for seniors?</td>\n",
       "      <td>whether much physic activ never one exercis re...</td>\n",
       "      <td>[0.018998412415385246, 0.044500019401311874, -...</td>\n",
       "    </tr>\n",
       "  </tbody>\n",
       "</table>\n",
       "</div>"
      ],
      "text/plain": [
       "                                       Title  \\\n",
       "0                   How cold affects muscles   \n",
       "1                     Two types of stretches   \n",
       "2                       What else you can do   \n",
       "3                    If pain doesn't go away   \n",
       "4  Why is exercise so important for seniors?   \n",
       "\n",
       "                                             Content  \\\n",
       "0  mercuri drop threaten bodi core temperatur fun...   \n",
       "1  dr ebi recommend two kind stretch ward cold we...   \n",
       "2  stretch might enough avoid stiff winter muscl ...   \n",
       "3  muscl pain doesnt go away might injuri muscl s...   \n",
       "4  whether much physic activ never one exercis re...   \n",
       "\n",
       "                                           embedding  \n",
       "0  [0.042666640132665634, 0.03674071654677391, -0...  \n",
       "1  [0.01926954835653305, 0.013544243760406971, -0...  \n",
       "2  [0.015518976375460625, 0.016931038349866867, -...  \n",
       "3  [0.02554585598409176, 0.030388735234737396, -0...  \n",
       "4  [0.018998412415385246, 0.044500019401311874, -...  "
      ]
     },
     "execution_count": 48,
     "metadata": {},
     "output_type": "execute_result"
    }
   ],
   "source": [
    "df"
   ]
  },
  {
   "cell_type": "markdown",
   "metadata": {},
   "source": [
    "## Init Pinecone"
   ]
  },
  {
   "cell_type": "code",
   "execution_count": 49,
   "metadata": {},
   "outputs": [],
   "source": [
    "pc = pinecone.Pinecone(api_key=pinecone_api_key)"
   ]
  },
  {
   "cell_type": "code",
   "execution_count": 50,
   "metadata": {},
   "outputs": [],
   "source": [
    "index_name = 'gen-fit'\n",
    "\n",
    "if index_name not in pc.list_indexes().names():\n",
    "    pc.create_index(\n",
    "        name=index_name,\n",
    "        dimension=1536,\n",
    "        metric='cosine',\n",
    "        spec=pinecone.ServerlessSpec(\n",
    "            cloud='aws',\n",
    "            region='us-east-1'\n",
    "        )\n",
    "    )\n",
    "\n",
    "index = pc.Index(index_name)"
   ]
  },
  {
   "cell_type": "code",
   "execution_count": 52,
   "metadata": {},
   "outputs": [],
   "source": [
    "# Convert embeddings to the required format\n",
    "pinecone_data = [\n",
    "    (\n",
    "        str(i),  # Unique ID for each vector\n",
    "        df.iloc[i]['embedding'],  # Embedding vector\n",
    "        {\n",
    "            'Topic': df.iloc[i]['Title'],\n",
    "            'Content': df.iloc[i]['Content']\n",
    "        }  # Metadata\n",
    "    )\n",
    "    for i in range(len(df))\n",
    "]"
   ]
  },
  {
   "cell_type": "code",
   "execution_count": 54,
   "metadata": {},
   "outputs": [
    {
     "data": {
      "application/vnd.jupyter.widget-view+json": {
       "model_id": "beb6efc7ff314bb7944d2c9ec59ee910",
       "version_major": 2,
       "version_minor": 0
      },
      "text/plain": [
       "  0%|          | 0/1 [00:00<?, ?it/s]"
      ]
     },
     "metadata": {},
     "output_type": "display_data"
    }
   ],
   "source": [
    "# Define batch size\n",
    "batch_size = 100\n",
    "\n",
    "# Upsert in batches\n",
    "for i in tqdm(range(0, len(pinecone_data), batch_size)):\n",
    "    batch = pinecone_data[i:i+batch_size]\n",
    "    index.upsert(vectors=batch)"
   ]
  }
 ],
 "metadata": {
  "kernelspec": {
   "display_name": "tensorflow",
   "language": "python",
   "name": "python3"
  },
  "language_info": {
   "codemirror_mode": {
    "name": "ipython",
    "version": 3
   },
   "file_extension": ".py",
   "mimetype": "text/x-python",
   "name": "python",
   "nbconvert_exporter": "python",
   "pygments_lexer": "ipython3",
   "version": "3.10.9"
  }
 },
 "nbformat": 4,
 "nbformat_minor": 2
}
